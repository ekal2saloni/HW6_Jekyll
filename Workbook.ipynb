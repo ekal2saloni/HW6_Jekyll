{
 "cells": [
  {
   "cell_type": "code",
   "execution_count": null,
   "metadata": {},
   "outputs": [],
   "source": [
    "import pandas as pd\n",
    "import altair as alt"
   ]
  },
  {
   "cell_type": "code",
   "execution_count": null,
   "metadata": {},
   "outputs": [],
   "source": [
    "# Enabling Altair \n",
    "alt.data_transformers.disable_max_rows()"
   ]
  },
  {
   "cell_type": "code",
   "execution_count": null,
   "metadata": {},
   "outputs": [],
   "source": [
    "# Read dataset from URL\n",
    "url = \"https://raw.githubusercontent.com/UIUC-iSchool-DataViz/is445_data/main/building_inventory.csv\"\n",
    "df = pd.read_csv(url)"
   ]
  },
  {
   "cell_type": "code",
   "execution_count": null,
   "metadata": {},
   "outputs": [],
   "source": [
    "# Handle missing values and ensure correct data types\n",
    "df['Square Footage'] = pd.to_numeric(df['Square Footage'], errors='coerce')\n",
    "df['Year Acquired'] = pd.to_numeric(df['Year Acquired'], errors='coerce')\n",
    "df.dropna(subset=['Square Footage', 'Year Acquired'], inplace=True)"
   ]
  },
  {
   "cell_type": "code",
   "execution_count": null,
   "metadata": {},
   "outputs": [],
   "source": [
    "# Visualization 1: Interactive bar chart with tooltips\n",
    "avg_sqft = df.groupby(['Agency Name', 'Usage Description'])['Square Footage'].mean().reset_index()\n",
    "\n",
    "# Selection for filtering\n",
    "agency_filter = alt.binding_select(options=list(avg_sqft['Agency Name'].unique()), name='Filter by Agency: ')\n",
    "agency_selection = alt.selection_single(fields=['Agency Name'], bind=agency_filter)\n",
    "\n",
    "bar_chart = alt.Chart(avg_sqft).mark_bar().encode(\n",
    "    x=alt.X('Square Footage:Q', title='Average Square Footage'),\n",
    "    y=alt.Y('Usage Description:N', sort='-x', title='Usage Description'),\n",
    "    color=alt.Color('Usage Description:N', legend=None),\n",
    "    tooltip=['Agency Name', 'Usage Description', 'Square Footage']\n",
    ").add_selection(\n",
    "    agency_selection\n",
    ").transform_filter(\n",
    "    agency_selection\n",
    ").properties(\n",
    "    title=\"Average Square Footage by Usage Description (Filtered by Agency)\",\n",
    "    width=600,\n",
    "    height=400\n",
    ")\n",
    "\n",
    "\n",
    "\n",
    "bar_chart.display()\n",
    "bar_chart.save('interactive_bar_chart.json')"
   ]
  },
  {
   "cell_type": "code",
   "execution_count": null,
   "metadata": {},
   "outputs": [],
   "source": [
    "# Visualization 2: Interactive scatter plot with selection\n",
    "scatter_chart = alt.Chart(df).mark_circle(size=60).encode(\n",
    "    x=alt.X('Year Acquired:Q', title='Year Acquired'),\n",
    "    y=alt.Y('Square Footage:Q', title='Square Footage'),\n",
    "    tooltip=['Location Name', 'Square Footage', 'Year Acquired'],  # Tooltip interactivity\n",
    "    color=alt.Color('Agency Name:N', title='Agency Name')\n",
    ").properties(\n",
    "    title=\"Square Footage vs Year Acquired (Interactive)\",\n",
    "    width=600,\n",
    "    height=400\n",
    ")\n",
    "\n",
    "# Adding interactivity: Multi-selection by agency name and click\n",
    "legend_selection = alt.selection_multi(fields=['Agency Name'], bind='legend', name=\"Select Agency\")\n",
    "point_selection = alt.selection_single(on='click', empty='all', name=\"Highlight Point\")\n",
    "\n",
    "interactive_scatter = scatter_chart.add_selection(\n",
    "    legend_selection\n",
    ").add_params(\n",
    "    point_selection\n",
    ").transform_filter(\n",
    "    legend_selection\n",
    ").encode(\n",
    "    opacity=alt.condition(point_selection, alt.value(1), alt.value(0.3)) \n",
    ")\n",
    "\n",
    "interactive_scatter.display()\n",
    "interactive_scatter.save('interactive_scatter_plot.json')"
   ]
  }
 ],
 "metadata": {
  "kernelspec": {
   "display_name": "Python 3",
   "language": "python",
   "name": "python3"
  },
  "language_info": {
   "codemirror_mode": {
    "name": "ipython",
    "version": 3
   },
   "file_extension": ".py",
   "mimetype": "text/x-python",
   "name": "python",
   "nbconvert_exporter": "python",
   "pygments_lexer": "ipython3",
   "version": "3.9.6"
  }
 },
 "nbformat": 4,
 "nbformat_minor": 2
}
